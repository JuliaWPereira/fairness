{
 "cells": [
  {
   "cell_type": "markdown",
   "id": "c525650f",
   "metadata": {},
   "source": [
    "# Notebook 04: Bias Mitigation\n",
    "\n",
    "Apply reweighing from AIF360 and compare fairness metrics."
   ]
  },
  {
   "cell_type": "code",
   "execution_count": null,
   "id": "95a22947",
   "metadata": {},
   "outputs": [],
   "source": [
    "from aif360.datasets import StandardDataset\n",
    "from aif360.algorithms.preprocessing import Reweighing\n",
    "from sklearn.linear_model import LogisticRegression\n",
    "from sklearn.metrics import accuracy_score\n",
    "\n",
    "# Prepare AIF360-compatible dataset\n",
    "aif_df = df.copy()\n",
    "aif_df['credit_risk'] = aif_df['credit_risk'].map({1: 1, 2: 0})\n",
    "\n",
    "dataset_orig = StandardDataset(\n",
    "    aif_df,\n",
    "    label_name='credit_risk',\n",
    "    favorable_classes=[1],\n",
    "    protected_attribute_names=['foreign_worker'],\n",
    "    privileged_classes=[[1]]\n",
    ")\n",
    "\n",
    "# Apply Reweighing\n",
    "RW = Reweighing(\n",
    "    privileged_groups=[{'foreign_worker': 1}],\n",
    "    unprivileged_groups=[{'foreign_worker': 0}]\n",
    ")\n",
    "dataset_transf = RW.fit_transform(dataset_orig)\n",
    "\n",
    "# Train model on reweighted data\n",
    "X_rw = dataset_transf.features\n",
    "y_rw = dataset_transf.labels.ravel()\n",
    "sample_weights = dataset_transf.instance_weights\n",
    "\n",
    "model_rw = LogisticRegression(max_iter=1000)\n",
    "model_rw.fit(X_rw, y_rw, sample_weight=sample_weights)\n",
    "y_pred_rw = model_rw.predict(X_rw)\n",
    "\n",
    "print('Accuracy after reweighing:', accuracy_score(y_rw, y_pred_rw))"
   ]
  }
 ],
 "metadata": {},
 "nbformat": 4,
 "nbformat_minor": 5
}
